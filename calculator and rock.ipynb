{
 "cells": [
  {
   "cell_type": "markdown",
   "id": "3b2dbcd4",
   "metadata": {},
   "source": [
    "# Task 2"
   ]
  },
  {
   "cell_type": "code",
   "execution_count": null,
   "id": "365c754a",
   "metadata": {
    "scrolled": true
   },
   "outputs": [],
   "source": [
    "import random\n",
    "user_input= input(\"Enter please (Rock,paper sissor) :\")\n",
    "possible_actions = [\"Rock\",\"paper\",\"sissor\"]\n",
    "computer_actions = random.choice(possible_actions)\n",
    "print(f\"Player choose {user_input} and computer choose {computer_actions}\")\n",
    "if user_input == computer_actions:\n",
    "    print(f\"after both choose {user_input} its tie:\")\n",
    "elif user_input==\"Rock\":\n",
    "    if computer_actions==\"sissor\":\n",
    "        print(f\"you choose {user_input} scissor smash the rock ! You win\")\n",
    "    else:\n",
    "        print(\"paper cover the rock! you lose\")\n",
    "elif user_input ==\"paper\":\n",
    "    if computer_actions==\"rock\":\n",
    "        print(\"paper cover rock!You win\")\n",
    "    else:\n",
    "        print(\"sissor cut the paper !you lose\")\n",
    "elif user_input == \"sissor\":\n",
    "    if computer_actions ==\"paper\":\n",
    "        print(f\"{user_input} cut paper! you win\")\n",
    "    else:\n",
    "        print(f\"{user_input} Rock smashes scissors! you lose\")\n",
    "\n",
    "        "
   ]
  },
  {
   "cell_type": "markdown",
   "id": "80b4ff19",
   "metadata": {},
   "source": [
    "# Task1"
   ]
  },
  {
   "cell_type": "code",
   "execution_count": null,
   "id": "90fb6c5a",
   "metadata": {},
   "outputs": [],
   "source": [
    "\n",
    "def add(x, y):\n",
    "    return x + y\n",
    "\n",
    "\n",
    "def subtract(x, y):\n",
    "    return x - y\n",
    "\n",
    "\n",
    "def multiply(x, y):\n",
    "    return x * y\n",
    "\n",
    "def divide(x, y):\n",
    "    return x / y\n",
    "\n",
    "\n",
    "print(\"Select operation.\")\n",
    "print(\"1-Add\")\n",
    "print(\"2-Subtract\")\n",
    "print(\"3-Multiply\")\n",
    "print(\"4-Divide\")\n",
    "\n",
    "while True:\n",
    "\n",
    "    choose = input(\"Enter choose(1/2/3/4): \")\n",
    "    if choose in ('1', '2', '3', '4'):\n",
    "        try:\n",
    "            num1 = float(input(\"Enter first number: \"))\n",
    "            num2 = float(input(\"Enter second number: \"))\n",
    "        except ValueError:\n",
    "            print(\"Erorr,Please enter a number.\")\n",
    "            continue\n",
    "\n",
    "        if choose == '1':\n",
    "            print(num1, \"+\", num2, \"=\", add(num1, num2))\n",
    "\n",
    "        elif choose == '2':\n",
    "            print(num1, \"-\", num2, \"=\", subtract(num1, num2))\n",
    "\n",
    "        elif choose == '3':\n",
    "            print(num1, \"*\", num2, \"=\", multiply(num1, num2))\n",
    "\n",
    "        elif choice == '4':\n",
    "            break\n",
    "        else:\n",
    "            print(\"Lets GOOO!!\")\n",
    "\n"
   ]
  },
  {
   "cell_type": "code",
   "execution_count": null,
   "id": "ef12cc72",
   "metadata": {},
   "outputs": [],
   "source": []
  }
 ],
 "metadata": {
  "kernelspec": {
   "display_name": "Python 3 (ipykernel)",
   "language": "python",
   "name": "python3"
  },
  "language_info": {
   "codemirror_mode": {
    "name": "ipython",
    "version": 3
   },
   "file_extension": ".py",
   "mimetype": "text/x-python",
   "name": "python",
   "nbconvert_exporter": "python",
   "pygments_lexer": "ipython3",
   "version": "3.10.9"
  }
 },
 "nbformat": 4,
 "nbformat_minor": 5
}
